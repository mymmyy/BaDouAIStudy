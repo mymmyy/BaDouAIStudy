{
 "cells": [
  {
   "cell_type": "markdown",
   "metadata": {},
   "source": [
    "# 垃圾邮件分类 - 使用朴素贝叶斯方式\n",
    "- 朴素贝叶斯\n",
    "- 特征工程基本流程\n",
    "- sklearn\n",
    "- jieba分词\n",
    "- TfidfVectorizer 文本数值化;TF-IDF 统计权重，用以评估一字词对于一个文件集或一个语料库中的其中一份文件的重要程度。\n",
    "- CountVectorizer 文本数值化：统计数"
   ]
  },
  {
   "cell_type": "markdown",
   "metadata": {},
   "source": [
    "## 朴素贝叶斯实现垃圾邮件分类的步骤\n",
    "- （1）读取数据：读取文本文件数据\n",
    "- （2）数据预处理（ETL）：数据ETL、格式整理、数据规约\n",
    "- （3）特征工程：将文本文件进行解析词条向量等处理\n",
    "- （4）模型训练（机器学习）：将训练数据集通过算法进行训练模型\n",
    "- （5）模型验证/校验（模型评估）：使用测试数据集校验模型\n",
    "- （6）模型使用（提供服务）：利用模型进行预测"
   ]
  },
  {
   "cell_type": "code",
   "execution_count": null,
   "metadata": {},
   "outputs": [],
   "source": []
  },
  {
   "cell_type": "code",
   "execution_count": 5,
   "metadata": {},
   "outputs": [],
   "source": [
    "import os\n",
    "import pandas as pd\n",
    "import jieba\n",
    "from sklearn.feature_extraction.text import CountVectorizer\n",
    "from sklearn.model_selection import train_test_split\n",
    "from sklearn.naive_bayes import BernoulliNB\n",
    "from sklearn.naive_bayes import GaussianNB\n",
    "from sklearn.naive_bayes import MultinomialNB\n"
   ]
  },
  {
   "cell_type": "code",
   "execution_count": null,
   "metadata": {},
   "outputs": [],
   "source": []
  },
  {
   "cell_type": "code",
   "execution_count": 6,
   "metadata": {},
   "outputs": [],
   "source": [
    "def word_segment(line, stopwords_list):\n",
    "    \"\"\"\n",
    "     param line: 一行文字\n",
    "     param stopwords_list: 停止词列表\n",
    "     return: 空格分隔的分词列表\n",
    "    \"\"\"\n",
    "    word_list = []\n",
    "    for word in jieba.cut(line):\n",
    "        if word.isalpha() and word not in stopwords_list:\n",
    "            word_list.append(word)\n",
    "    return \" \".join(word_list)"
   ]
  },
  {
   "cell_type": "code",
   "execution_count": null,
   "metadata": {},
   "outputs": [],
   "source": []
  },
  {
   "cell_type": "code",
   "execution_count": 7,
   "metadata": {},
   "outputs": [],
   "source": [
    "def feature_transform(texts):\n",
    "    transformer = CountVectorizer()\n",
    "    word_cnt_df = pd.DataFrame(transformer.fit_transform(texts).toarray())\n",
    "    word_cnt_freq = pd.DataFrame(word_cnt_df.apply(sum, axis=0))\n",
    "    word_keep = [word_cnt_freq.index[i] for i in range(word_cnt_freq.shape[0]) if word_cnt_freq.iloc[i, 0] > 5]\n",
    "    features = word_cnt_df[word_keep]\n",
    "    return word_cnt_df"
   ]
  },
  {
   "cell_type": "code",
   "execution_count": null,
   "metadata": {},
   "outputs": [],
   "source": []
  },
  {
   "cell_type": "code",
   "execution_count": 8,
   "metadata": {},
   "outputs": [],
   "source": [
    "def load_data(base_path):\n",
    "    email_file_name = os.path.join(base_path, \"chinesespam.xlsx\")\n",
    "    stopword_file_name = os.path.join(base_path, \"stopwords.txt\")\n",
    "    stopwords_list = [i.strip() for i in open(stopword_file_name, 'r', encoding='utf8').readlines()]\n",
    "    email_df = pd.read_excel(email_file_name, sheet_name=0)\n",
    "    email_df['text'] = email_df.text.apply(lambda x: word_segment(x, stopwords_list))\n",
    "    features = feature_transform(email_df['text'])\n",
    "    labels = email_df['type']\n",
    "    x_train, x_test, y_train, y_test = train_test_split(features, labels, test_size=0.3, random_state=5)\n",
    "    return x_train, x_test, y_train, y_test\n"
   ]
  },
  {
   "cell_type": "code",
   "execution_count": null,
   "metadata": {},
   "outputs": [],
   "source": []
  },
  {
   "cell_type": "code",
   "execution_count": 9,
   "metadata": {},
   "outputs": [],
   "source": [
    "# 伯努利分布模型训练\n",
    "def model_BernoulliNB(x_train, y_train):\n",
    "    model = BernoulliNB()\n",
    "    model.fit(x_train, y_train)\n",
    "    return model"
   ]
  },
  {
   "cell_type": "code",
   "execution_count": null,
   "metadata": {},
   "outputs": [],
   "source": []
  },
  {
   "cell_type": "code",
   "execution_count": 10,
   "metadata": {},
   "outputs": [],
   "source": [
    "# 高斯分布模型训练\n",
    "def model_GaussianNB(x_train, y_train):\n",
    "    model = GaussianNB()\n",
    "    model.fit(x_train, y_train)\n",
    "    return model"
   ]
  },
  {
   "cell_type": "code",
   "execution_count": null,
   "metadata": {},
   "outputs": [],
   "source": []
  },
  {
   "cell_type": "code",
   "execution_count": 11,
   "metadata": {},
   "outputs": [],
   "source": [
    "# 多项式分布模型训练\n",
    "def model_MultinomialNB(x_train, y_train):\n",
    "    model = MultinomialNB()\n",
    "    model.fit(x_train, y_train)\n",
    "    return model"
   ]
  },
  {
   "cell_type": "code",
   "execution_count": null,
   "metadata": {},
   "outputs": [],
   "source": []
  },
  {
   "cell_type": "code",
   "execution_count": 12,
   "metadata": {},
   "outputs": [
    {
     "name": "stderr",
     "output_type": "stream",
     "text": [
      "Building prefix dict from the default dictionary ...\n",
      "Loading model from cache C:\\Users\\明柯\\AppData\\Local\\Temp\\jieba.cache\n",
      "Loading model cost 1.082 seconds.\n",
      "Prefix dict has been built successfully.\n"
     ]
    },
    {
     "name": "stdout",
     "output_type": "stream",
     "text": [
      "0.9555555555555556\n"
     ]
    }
   ],
   "source": [
    "base_path = \"D:/GitTest/badou/上课课件集合/公开课/课件/\"\n",
    "x_train, x_test, y_train, y_test = load_data(base_path)\n",
    "model = model_MultinomialNB(x_train, y_train)\n",
    "print(model.score(x_test, y_test))"
   ]
  },
  {
   "cell_type": "code",
   "execution_count": null,
   "metadata": {},
   "outputs": [],
   "source": []
  }
 ],
 "metadata": {
  "kernelspec": {
   "display_name": "Python 3",
   "language": "python",
   "name": "python3"
  },
  "language_info": {
   "codemirror_mode": {
    "name": "ipython",
    "version": 3
   },
   "file_extension": ".py",
   "mimetype": "text/x-python",
   "name": "python",
   "nbconvert_exporter": "python",
   "pygments_lexer": "ipython3",
   "version": "3.7.6"
  }
 },
 "nbformat": 4,
 "nbformat_minor": 4
}
