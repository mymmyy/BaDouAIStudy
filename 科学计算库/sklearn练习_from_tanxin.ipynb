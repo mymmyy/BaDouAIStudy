{
 "cells": [
  {
   "cell_type": "code",
   "execution_count": 6,
   "metadata": {},
   "outputs": [
    {
     "name": "stdout",
     "output_type": "stream",
     "text": [
      "(178, 13) (178,)\n"
     ]
    }
   ],
   "source": [
    "# 案例一\n",
    "\n",
    "# 导入样本数据\n",
    "from sklearn import datasets\n",
    "wine = datasets.load_wine()\n",
    "x = wine.data\n",
    "y = wine.target\n",
    "\n",
    "import numpy as np\n",
    "print(np.shape(x), np.shape(y))"
   ]
  },
  {
   "cell_type": "code",
   "execution_count": 10,
   "metadata": {},
   "outputs": [
    {
     "name": "stdout",
     "output_type": "stream",
     "text": [
      "(142, 13) (36, 13)\n"
     ]
    }
   ],
   "source": [
    "# 把数据分成训练数据和测试数据\n",
    "from sklearn.model_selection import train_test_split\n",
    "x_train, x_test, y_train, y_test = train_test_split(x, y, test_size = 0.2, random_state=42)\n",
    "print(np.shape(x_train), np.shape(x_test))"
   ]
  },
  {
   "cell_type": "code",
   "execution_count": 18,
   "metadata": {},
   "outputs": [
    {
     "name": "stdout",
     "output_type": "stream",
     "text": [
      "利用逻辑回归模型来做训练\n",
      "训练数据上的准确率： 0.964789\n",
      "测试数据上的准确率： 0.972222\n"
     ]
    },
    {
     "name": "stderr",
     "output_type": "stream",
     "text": [
      "E:\\study\\anacoda3\\lib\\site-packages\\sklearn\\linear_model\\_logistic.py:940: ConvergenceWarning: lbfgs failed to converge (status=1):\n",
      "STOP: TOTAL NO. of ITERATIONS REACHED LIMIT.\n",
      "\n",
      "Increase the number of iterations (max_iter) or scale the data as shown in:\n",
      "    https://scikit-learn.org/stable/modules/preprocessing.html\n",
      "Please also refer to the documentation for alternative solver options:\n",
      "    https://scikit-learn.org/stable/modules/linear_model.html#logistic-regression\n",
      "  extra_warning_msg=_LOGISTIC_SOLVER_CONVERGENCE_MSG)\n"
     ]
    }
   ],
   "source": [
    "# 训练模型：逻辑回归模型\n",
    "print(\"利用逻辑回归模型来做训练\")\n",
    "from sklearn.linear_model import LogisticRegression\n",
    "model = LogisticRegression().fit(x_train, y_train)\n",
    "print(\"训练数据上的准确率： %f\" % (model.score(x_train, y_train)))\n",
    "print(\"测试数据上的准确率： %f\" % (model.score(x_test, y_test)))"
   ]
  },
  {
   "cell_type": "code",
   "execution_count": 36,
   "metadata": {},
   "outputs": [
    {
     "name": "stdout",
     "output_type": "stream",
     "text": [
      "利用支持向量模型来做训练\n",
      "训练数据上的准确率： 0.690141\n",
      "测试数据上的准确率： 0.805556\n"
     ]
    }
   ],
   "source": [
    "\n",
    "# 训练模型：支持向量机模型\n",
    "print(\"利用支持向量模型来做训练\")\n",
    "from sklearn import svm\n",
    "model = svm.SVC().fit(x_train, y_train)\n",
    "print(\"训练数据上的准确率： %f\" % (model.score(x_train, y_train)))\n",
    "print(\"测试数据上的准确率： %f\" % (model.score(x_test, y_test)))"
   ]
  },
  {
   "cell_type": "code",
   "execution_count": 37,
   "metadata": {},
   "outputs": [
    {
     "name": "stdout",
     "output_type": "stream",
     "text": [
      "利用决策树模型来做训练\n",
      "训练数据上的准确率： 1.000000\n",
      "测试数据上的准确率： 0.944444\n"
     ]
    }
   ],
   "source": [
    "# 训练模型：决策树模型\n",
    "print(\"利用决策树模型来做训练\")\n",
    "from sklearn import tree\n",
    "model = tree.DecisionTreeClassifier().fit(x_train, y_train)\n",
    "print(\"训练数据上的准确率： %f\" % (model.score(x_train, y_train)))\n",
    "print(\"测试数据上的准确率： %f\" % (model.score(x_test, y_test)))"
   ]
  },
  {
   "cell_type": "code",
   "execution_count": 38,
   "metadata": {},
   "outputs": [
    {
     "name": "stdout",
     "output_type": "stream",
     "text": [
      "利用神经网络模型来做训练\n",
      "训练数据上的准确率： 0.359155\n",
      "测试数据上的准确率： 0.305556\n"
     ]
    }
   ],
   "source": [
    "# 训练模型：神经网络模型\n",
    "print(\"利用神经网络模型来做训练\")\n",
    "from sklearn.neural_network import MLPClassifier\n",
    "model = MLPClassifier().fit(x_train, y_train)\n",
    "print(\"训练数据上的准确率： %f\" % (model.score(x_train, y_train)))\n",
    "print(\"测试数据上的准确率： %f\" % (model.score(x_test, y_test)))"
   ]
  }
 ],
 "metadata": {
  "kernelspec": {
   "display_name": "Python 3",
   "language": "python",
   "name": "python3"
  },
  "language_info": {
   "codemirror_mode": {
    "name": "ipython",
    "version": 3
   },
   "file_extension": ".py",
   "mimetype": "text/x-python",
   "name": "python",
   "nbconvert_exporter": "python",
   "pygments_lexer": "ipython3",
   "version": "3.7.6"
  }
 },
 "nbformat": 4,
 "nbformat_minor": 4
}
